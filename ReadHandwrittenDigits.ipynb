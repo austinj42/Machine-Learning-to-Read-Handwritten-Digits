{
  "nbformat": 4,
  "nbformat_minor": 0,
  "metadata": {
    "colab": {
      "name": "Assignment3.ipynb",
      "provenance": [],
      "include_colab_link": true
    },
    "kernelspec": {
      "name": "python3",
      "display_name": "Python 3"
    }
  },
  "cells": [
    {
      "cell_type": "markdown",
      "metadata": {
        "id": "view-in-github",
        "colab_type": "text"
      },
      "source": [
        "<a href=\"https://colab.research.google.com/github/austinj42/Machine-Learning-to-Read-Handwritten-Digits/blob/master/ReadHandwrittenDigits.ipynb\" target=\"_parent\"><img src=\"https://colab.research.google.com/assets/colab-badge.svg\" alt=\"Open In Colab\"/></a>"
      ]
    },
    {
      "cell_type": "code",
      "metadata": {
        "id": "c88bE2FQon3m",
        "colab_type": "code",
        "outputId": "60e4a4a5-e162-45fb-e35b-7e66994e4f7f",
        "colab": {
          "base_uri": "https://localhost:8080/",
          "height": 308
        }
      },
      "source": [
        "!wget https://github.com/daniel-e/mnist_octave/raw/master/mnist.mat\n",
        "import scipy.io\n",
        "import numpy as np\n",
        "import matplotlib.pyplot as plt\n",
        "mat = scipy.io.loadmat('mnist.mat')"
      ],
      "execution_count": 2,
      "outputs": [
        {
          "output_type": "stream",
          "text": [
            "--2020-03-14 22:49:04--  https://github.com/daniel-e/mnist_octave/raw/master/mnist.mat\n",
            "Resolving github.com (github.com)... 140.82.114.3\n",
            "Connecting to github.com (github.com)|140.82.114.3|:443... connected.\n",
            "HTTP request sent, awaiting response... 302 Found\n",
            "Location: https://raw.githubusercontent.com/daniel-e/mnist_octave/master/mnist.mat [following]\n",
            "--2020-03-14 22:49:04--  https://raw.githubusercontent.com/daniel-e/mnist_octave/master/mnist.mat\n",
            "Resolving raw.githubusercontent.com (raw.githubusercontent.com)... 151.101.0.133, 151.101.64.133, 151.101.128.133, ...\n",
            "Connecting to raw.githubusercontent.com (raw.githubusercontent.com)|151.101.0.133|:443... connected.\n",
            "HTTP request sent, awaiting response... 200 OK\n",
            "Length: 14278089 (14M) [application/octet-stream]\n",
            "Saving to: ‘mnist.mat.1’\n",
            "\n",
            "mnist.mat.1         100%[===================>]  13.62M  --.-KB/s    in 0.1s    \n",
            "\n",
            "2020-03-14 22:49:04 (93.9 MB/s) - ‘mnist.mat.1’ saved [14278089/14278089]\n",
            "\n"
          ],
          "name": "stdout"
        }
      ]
    },
    {
      "cell_type": "markdown",
      "metadata": {
        "id": "GihbbzTT0mek",
        "colab_type": "text"
      },
      "source": [
        "# **Put testing and training sets into arrays**"
      ]
    },
    {
      "cell_type": "code",
      "metadata": {
        "id": "86PnOFgKoNl1",
        "colab_type": "code",
        "colab": {}
      },
      "source": [
        "#import test and training sets\n",
        "trainX = mat[\"trainX\"]\n",
        "testX = mat[\"testX\"]\n",
        "trainY = mat[\"trainY\"]\n",
        "testY = mat[\"testY\"]\n",
        "\n",
        "#convert sets to numpy format\n",
        "trainX = np.array(trainX, dtype=float)\n",
        "testX = np.array(testX, dtype=float)\n",
        "\n",
        "trainY = np.array(trainY, dtype=float)\n",
        "testY = np.array(testY, dtype=float)"
      ],
      "execution_count": 0,
      "outputs": []
    },
    {
      "cell_type": "markdown",
      "metadata": {
        "id": "AMMt4aqL0yHb",
        "colab_type": "text"
      },
      "source": [
        "# **Define Euclidean and Cos functions**"
      ]
    },
    {
      "cell_type": "code",
      "metadata": {
        "id": "IBNOA1i_qiV-",
        "colab_type": "code",
        "colab": {}
      },
      "source": [
        "#define euclidean distance formula\n",
        "def euclidean(x, y):\n",
        "  return np.sqrt(np.sum((x - y) ** 2))\n",
        "\n",
        "#define cosine distance formula\n",
        "def cos(x, y):\n",
        "  return 1- np.dot(x, y)/(np.sqrt(np.dot(x, x)) * np.sqrt(np.dot(y, y)))"
      ],
      "execution_count": 0,
      "outputs": []
    },
    {
      "cell_type": "markdown",
      "metadata": {
        "id": "YWwKV-Xh1IJD",
        "colab_type": "text"
      },
      "source": [
        "# **Base euclidean test case using 500 tests and all training samples**"
      ]
    },
    {
      "cell_type": "code",
      "metadata": {
        "id": "O3Fn0Md1qqZu",
        "colab_type": "code",
        "colab": {}
      },
      "source": [
        "#Set number of tests and training data to be used for euclidean distance\n",
        "testsUsed = 500\n",
        "trainUsed = 60000\n",
        "#empty array to store accuracy counts\n",
        "accuracyEucl = np.zeros((10,10))\n",
        "\n",
        "#loop through all test numbers\n",
        "for num in range(0,testsUsed):\n",
        "  #variables to hold the minimum index and minimum distance training item\n",
        "  minIxEucl = 0;\n",
        "  #set first min to the euclidean distance of the first item\n",
        "  minAmountEucl = euclidean(testX[num,:], trainX[0,:])\n",
        "  #for every training item compute the euclidean distance from the current test\n",
        "  #item\n",
        "  for ix in range(0, trainUsed):\n",
        "    #compute euclidean distance of the current training item\n",
        "    euclCheck = euclidean(testX[num,:], trainX[ix,:])\n",
        "    #if the item's euclidean distance is less than the current min set new min\n",
        "    if(euclCheck < minAmountEucl):\n",
        "      minAmountEucl = euclCheck\n",
        "      minIxEucl = ix\n",
        "  #the predicted item is selected using the number represented by the min index\n",
        "  pred = int(trainY[0,minIxEucl])\n",
        "  #ground truth\n",
        "  gt = int(testY[0,num])\n",
        "  #accuracy matrix is filled, counting each correct selection and also counting \n",
        "  #errors in predictions\n",
        "  accuracyEucl[gt,pred] +=1"
      ],
      "execution_count": 0,
      "outputs": []
    },
    {
      "cell_type": "code",
      "metadata": {
        "id": "2LlsUWgnsyjQ",
        "colab_type": "code",
        "outputId": "ab4baf83-3f2b-4f83-8000-5e0e6408a790",
        "colab": {
          "base_uri": "https://localhost:8080/",
          "height": 287
        }
      },
      "source": [
        "#create new empty matrix\n",
        "actualAcc = np.zeros((10,10))\n",
        "for i in range(10):\n",
        "  for j in range(10):\n",
        "    #if i and j are not equal, and a value > 1 is present, then the prediction\n",
        "    #is incorrect, this is placed in the new accuracy matrix\n",
        "    if(i!=j):\n",
        "      actualAcc[i][j] = accuracyEucl[i][j]\n",
        "#The new accuracy matrix is used to create a confusion matrix\n",
        "plt.imshow(actualAcc)\n",
        "plt.colorbar()\n",
        "#print out overall accuracy of all testing\n",
        "print((np.trace(accuracyEucl)/testsUsed)*100)"
      ],
      "execution_count": 0,
      "outputs": [
        {
          "output_type": "stream",
          "text": [
            "96.6\n"
          ],
          "name": "stdout"
        },
        {
          "output_type": "display_data",
          "data": {
            "image/png": "[encoded data removed]",
            "text/plain": [
              "<Figure size 432x288 with 2 Axes>"
            ]
          },
          "metadata": {
            "tags": []
          }
        }
      ]
    },
    {
      "cell_type": "markdown",
      "metadata": {
        "id": "Z7v4oKyy1Shl",
        "colab_type": "text"
      },
      "source": [
        "# **Base Cos test case using 500 tests and all training samples**"
      ]
    },
    {
      "cell_type": "code",
      "metadata": {
        "id": "x0oY6oQrqqyt",
        "colab_type": "code",
        "colab": {}
      },
      "source": [
        "#Set number of tests and training data to be used for cosine distance\n",
        "testsUsed = 500\n",
        "trainUsed = 60000\n",
        "#empty array to store accuracy counts\n",
        "accuracyCos = np.zeros((10,10))\n",
        "#loop through all test numbers\n",
        "for num in range(0,testsUsed):\n",
        "  #variables to hold the minimum index and minimum distance training item\n",
        "  minIx = 0;\n",
        "  #set first min to the cosine distance of the first item\n",
        "  minAmount = cos(testX[num,:], trainX[0,:])\n",
        "  #for every training item compute the cosine distance \n",
        "  #from the current test item\n",
        "  for ix in range(0,trainUsed):\n",
        "    #compute cosine distance of the current training item\n",
        "    cosCheck = cos(testX[num,:], trainX[ix,:])\n",
        "    #if the item's cosine distance is less than the current min set new min\n",
        "    if(cosCheck < minAmount):\n",
        "      minAmount = cosCheck\n",
        "      minIx = ix\n",
        "  #the predicted item is selected using the number represented by the min index\n",
        "  pred = int(trainY[0,minIx])\n",
        "  #ground truth\n",
        "  gt = int(testY[0,num])\n",
        "  #accuracy matrix is filled, counting each correct selection and also counting \n",
        "  #errors in predictions\n",
        "  accuracyCos[gt,pred] +=1"
      ],
      "execution_count": 0,
      "outputs": []
    },
    {
      "cell_type": "code",
      "metadata": {
        "id": "lSILMf-8qwhS",
        "colab_type": "code",
        "outputId": "692979ed-e6b0-4be1-858b-2788c50c524a",
        "colab": {
          "base_uri": "https://localhost:8080/",
          "height": 287
        }
      },
      "source": [
        "#create new empty matrix\n",
        "actualAcc = np.zeros((10,10))\n",
        "for i in range(10):\n",
        "  for j in range(10):\n",
        "    #if i and j are not equal, and a value > 1 is present, then the prediction\n",
        "    #is incorrect, this is placed in the new accuracy matrix\n",
        "    if(i!=j):\n",
        "      actualAcc[i][j] = accuracyCos[i][j]\n",
        "#The new accuracy matrix is used to create a confusion matrix\n",
        "plt.imshow(actualAcc)\n",
        "plt.colorbar()\n",
        "#print out overall accuracy of all testing\n",
        "print((np.trace(accuracyCos)/testsUsed)*100)"
      ],
      "execution_count": 0,
      "outputs": [
        {
          "output_type": "stream",
          "text": [
            "97.2\n"
          ],
          "name": "stdout"
        },
        {
          "output_type": "display_data",
          "data": {
            "image/png": "[encoded data removed]",
            "text/plain": [
              "<Figure size 432x288 with 2 Axes>"
            ]
          },
          "metadata": {
            "tags": []
          }
        }
      ]
    },
    {
      "cell_type": "markdown",
      "metadata": {
        "id": "BMVqtl_L1nOr",
        "colab_type": "text"
      },
      "source": [
        "# **Accuracy as a number of training samples, fixed 200 test samples Euclidean:**"
      ]
    },
    {
      "cell_type": "code",
      "metadata": {
        "id": "tRuVafHa1ftO",
        "colab_type": "code",
        "colab": {}
      },
      "source": [
        "#using only 200 testing items, compute euclidean distance accuracy based off of \n",
        "#increasing training items\n",
        "testsUsed = 200\n",
        "#accuracy matrix for all tests\n",
        "accuracyIndexEucl200 = np.zeros((50,2))\n",
        "#using increments of 100, compute euclidean distance accuracy for each\n",
        "#amount of training samples\n",
        "for trials in range(0, 5000):\n",
        "  if(trials%100 == 0):\n",
        "    #accuracy matrix for current trainig amount\n",
        "    accuracyEucl = np.zeros((10,10))\n",
        "    #set training amount for current test\n",
        "    trainUsed = trials\n",
        "    #Same function as above to compute accuracy for current\n",
        "    #training amount\n",
        "    for num in range(0,testsUsed):\n",
        "      minIxEucl = 0;\n",
        "      minAmountEucl = euclidean(testX[num,:], trainX[0,:])\n",
        "      for ix in range(0, trainUsed):\n",
        "        euclCheck = euclidean(testX[num,:], trainX[ix,:])\n",
        "        if(euclCheck < minAmountEucl):\n",
        "          minAmountEucl = euclCheck\n",
        "          minIxEucl = ix\n",
        "      pred = int(trainY[0,minIxEucl])\n",
        "      gt = int(testY[0,num])\n",
        "      accuracyEucl[gt,pred] +=1\n",
        "    #overall accuracy matrix updated to hold current accuracy\n",
        "accuracyIndexEucl200[int(trials/100)] = ((np.trace(accuracyEucl)/testsUsed)*100)"
      ],
      "execution_count": 0,
      "outputs": []
    },
    {
      "cell_type": "code",
      "metadata": {
        "id": "_Sbo61woGkwy",
        "colab_type": "code",
        "outputId": "24cec83a-739c-4148-956d-4f9bec5b893c",
        "colab": {
          "base_uri": "https://localhost:8080/",
          "height": 331
        }
      },
      "source": [
        "#plot all accuracies computed\n",
        "fix, ax = plt.subplots(1,1)\n",
        "ax.set_xticklabels([0,1000,2000,3000,4000,5000])\n",
        "ax.set_title(\"Eucl Distance 200 Test Samples\")\n",
        "ax.set_xlabel(\"Training Samples\")\n",
        "ax.set_ylabel(\"Accuracy as a Percentage\")\n",
        "ax.plot(accuracyIndexEucl200, 'b-')"
      ],
      "execution_count": 0,
      "outputs": [
        {
          "output_type": "execute_result",
          "data": {
            "text/plain": [
              "[<matplotlib.lines.Line2D at 0x7f5a331876d8>,\n",
              " <matplotlib.lines.Line2D at 0x7f5a331877f0>]"
            ]
          },
          "metadata": {
            "tags": []
          },
          "execution_count": 10
        },
        {
          "output_type": "display_data",
          "data": {
            "image/png": "[encoded data removed]",
            "text/plain": [
              "<Figure size 432x288 with 1 Axes>"
            ]
          },
          "metadata": {
            "tags": []
          }
        }
      ]
    },
    {
      "cell_type": "markdown",
      "metadata": {
        "id": "vyxbbg-EZ77w",
        "colab_type": "text"
      },
      "source": [
        "# **Accuracy as a number of training samples, fixed 200 test samples Cos:**"
      ]
    },
    {
      "cell_type": "code",
      "metadata": {
        "id": "zjiSiXFYaGY7",
        "colab_type": "code",
        "colab": {}
      },
      "source": [
        "#using only 200 testing items, compute cosine distance accuracy based off of \n",
        "#increasing training items\n",
        "testsUsed = 200\n",
        "#accuracy matrix for all tests\n",
        "accuracyIndexCos200 = np.zeros((50,2))\n",
        "#using increments of 100, compute cosine distance accuracy for each\n",
        "#amount of training samples\n",
        "for trials in range(0, 5000):\n",
        "  if(trials%100 == 0):\n",
        "    #accuracy matrix for current training amount\n",
        "    accuracyCos = np.zeros((10,10))\n",
        "    #set training amount for current test\n",
        "    trainUsed = trials\n",
        "    #Same function as above to compute accuracy for current\n",
        "    #training amount\n",
        "    for num in range(0,testsUsed):\n",
        "      minIxCos = 0;\n",
        "      minAmountCos = cos(testX[num,:], trainX[0,:])\n",
        "      for ix in range(0, trainUsed):\n",
        "        cosCheck = cos(testX[num,:], trainX[ix,:])\n",
        "        if(cosCheck < minAmountCos):\n",
        "          minAmountCos = cosCheck\n",
        "          minIxCos = ix\n",
        "      pred = int(trainY[0,minIxCos])\n",
        "      gt = int(testY[0,num])\n",
        "      accuracyCos[gt,pred] +=1\n",
        "    #overall accuracy matrix updated to hold current accuracy\n",
        "    accuracyIndexCos200[int(trials/100)] = ((np.trace(accuracyCos)/testsUsed)*100)"
      ],
      "execution_count": 0,
      "outputs": []
    },
    {
      "cell_type": "code",
      "metadata": {
        "id": "isFsLwQ9a7Sr",
        "colab_type": "code",
        "outputId": "612166ed-8eb2-4bef-e2fd-5889db73efd1",
        "colab": {
          "base_uri": "https://localhost:8080/",
          "height": 331
        }
      },
      "source": [
        "#plot all accuracies computed\n",
        "fix, ax = plt.subplots(1,1)\n",
        "ax.set_xticklabels([0,1000,2000,3000,4000,5000])\n",
        "ax.set_title(\"Cos Distance 200 Test Samples\")\n",
        "ax.set_xlabel(\"Training Samples\")\n",
        "ax.set_ylabel(\"Accuracy as a Percentage\")\n",
        "ax.plot(accuracyIndexCos200, 'b-')"
      ],
      "execution_count": 0,
      "outputs": [
        {
          "output_type": "execute_result",
          "data": {
            "text/plain": [
              "[<matplotlib.lines.Line2D at 0x7f5a330e6390>,\n",
              " <matplotlib.lines.Line2D at 0x7f5a330e64e0>]"
            ]
          },
          "metadata": {
            "tags": []
          },
          "execution_count": 12
        },
        {
          "output_type": "display_data",
          "data": {
            "image/png": "[encoded data removed]",
            "text/plain": [
              "<Figure size 432x288 with 1 Axes>"
            ]
          },
          "metadata": {
            "tags": []
          }
        }
      ]
    },
    {
      "cell_type": "markdown",
      "metadata": {
        "id": "plOd8k_zfP0-",
        "colab_type": "text"
      },
      "source": [
        "# **Accuracy as a number of Testing samples, fixed 500 training samples Euclidean:**"
      ]
    },
    {
      "cell_type": "code",
      "metadata": {
        "id": "81uR51qyfQ1e",
        "colab_type": "code",
        "outputId": "32e73a20-b5f5-4ef7-c413-b9308eeeb4b7",
        "colab": {
          "base_uri": "https://localhost:8080/",
          "height": 35
        }
      },
      "source": [
        "#using only 500 training items, compute euclidean distance accuracy based off of \n",
        "#increasing testing items\n",
        "#this is the same code as above, but instead of increasing the amount of\n",
        "#training items used the amount of testing items used icreases instead\n",
        "trainUsed = 500\n",
        "accuracyIndexEucl500 = np.zeros((50,2))\n",
        "for trials in range(0, 5000):\n",
        "  if(trials%100 == 0):\n",
        "    accuracyEucl = np.zeros((10,10))\n",
        "    testsUsed = trials\n",
        "    for num in range(0,testsUsed):\n",
        "      minIxEucl = 0;\n",
        "      minAmountEucl = euclidean(testX[num,:], trainX[0,:])\n",
        "      for ix in range(0, trainUsed):\n",
        "        euclCheck = euclidean(testX[num,:], trainX[ix,:])\n",
        "        if(euclCheck < minAmountEucl):\n",
        "          minAmountEucl = euclCheck\n",
        "          minIxEucl = ix\n",
        "      pred = int(trainY[0,minIxEucl])\n",
        "      gt = int(testY[0,num])\n",
        "      accuracyEucl[gt,pred] +=1\n",
        "    accuracyIndexEucl500[int(trials/100)] = ((np.trace(accuracyEucl)/testsUsed)*100)"
      ],
      "execution_count": 0,
      "outputs": [
        {
          "output_type": "stream",
          "text": [
            "/usr/local/lib/python3.6/dist-packages/ipykernel_launcher.py:18: RuntimeWarning: invalid value encountered in double_scalars\n"
          ],
          "name": "stderr"
        }
      ]
    },
    {
      "cell_type": "code",
      "metadata": {
        "id": "F0E2tdy7jENM",
        "colab_type": "code",
        "outputId": "ae2b4e53-e2b8-4c3b-b4b2-b210921382dd",
        "colab": {
          "base_uri": "https://localhost:8080/",
          "height": 331
        }
      },
      "source": [
        "fix, ax = plt.subplots(1,1)\n",
        "ax.set_xticklabels([0,1000,2000,3000,4000,5000])\n",
        "ax.set_title(\"Euclidean Distance 500 Training Samples\")\n",
        "ax.set_xlabel(\"Testing Samples\")\n",
        "ax.set_ylabel(\"Accuracy as a Percentage\")\n",
        "ax.plot(accuracyIndexEucl500, 'b-')"
      ],
      "execution_count": 0,
      "outputs": [
        {
          "output_type": "execute_result",
          "data": {
            "text/plain": [
              "[<matplotlib.lines.Line2D at 0x7fb6fd98f470>,\n",
              " <matplotlib.lines.Line2D at 0x7fb6fd98f5f8>]"
            ]
          },
          "metadata": {
            "tags": []
          },
          "execution_count": 147
        },
        {
          "output_type": "display_data",
          "data": {
            "image/png": "[encoded data removed]",
            "text/plain": [
              "<Figure size 432x288 with 1 Axes>"
            ]
          },
          "metadata": {
            "tags": []
          }
        }
      ]
    },
    {
      "cell_type": "markdown",
      "metadata": {
        "id": "JMrcL8LLjXis",
        "colab_type": "text"
      },
      "source": [
        "# **Accuracy as a number of Testing samples, fixed 500 training samples Cos:**"
      ]
    },
    {
      "cell_type": "code",
      "metadata": {
        "id": "YTu0t26HjbOU",
        "colab_type": "code",
        "outputId": "4fc680a5-e543-4f37-c5d2-f89ef9051dae",
        "colab": {
          "base_uri": "https://localhost:8080/",
          "height": 35
        }
      },
      "source": [
        "#using only 500 training items, compute cosine distance accuracy based off of \n",
        "#increasing testing items\n",
        "#this is the same code as above, but instead of increasing the amount of\n",
        "#training items used the amount of testing items used icreases instead\n",
        "trainUsed = 500\n",
        "accuracyIndexCos500 = np.zeros((50,2))\n",
        "for trials in range(0, 5000):\n",
        "  if(trials%100 == 0):\n",
        "    accuracyCos = np.zeros((10,10))\n",
        "    testsUsed = trials\n",
        "    for num in range(0,testsUsed):\n",
        "      minIxCos = 0;\n",
        "      minAmountCos = cos(testX[num,:], trainX[0,:])\n",
        "      for ix in range(0, trainUsed):\n",
        "        cosCheck = cos(testX[num,:], trainX[ix,:])\n",
        "        if(cosCheck < minAmountCos):\n",
        "          minAmountCos = cosCheck\n",
        "          minIxCos = ix\n",
        "      pred = int(trainY[0,minIxCos])\n",
        "      gt = int(testY[0,num])\n",
        "      accuracyCos[gt,pred] +=1\n",
        "    accuracyIndexCos500[int(trials/100)] = ((np.trace(accuracyCos)/testsUsed)*100)"
      ],
      "execution_count": 0,
      "outputs": [
        {
          "output_type": "stream",
          "text": [
            "/usr/local/lib/python3.6/dist-packages/ipykernel_launcher.py:18: RuntimeWarning: invalid value encountered in double_scalars\n"
          ],
          "name": "stderr"
        }
      ]
    },
    {
      "cell_type": "code",
      "metadata": {
        "id": "nmsjtzhkmbTo",
        "colab_type": "code",
        "outputId": "797114c9-c12b-4db7-ca1e-ff93bb8eb07e",
        "colab": {
          "base_uri": "https://localhost:8080/",
          "height": 331
        }
      },
      "source": [
        "fix, ax = plt.subplots(1,1)\n",
        "ax.set_xticklabels([0,1000,2000,3000,4000,5000])\n",
        "ax.set_title(\"Cos Distance 500 Training Samples\")\n",
        "ax.set_xlabel(\"Testing Samples\")\n",
        "ax.set_ylabel(\"Accuracy as a Percentage\")\n",
        "ax.plot(accuracyIndexCos500, 'b-')"
      ],
      "execution_count": 0,
      "outputs": [
        {
          "output_type": "execute_result",
          "data": {
            "text/plain": [
              "[<matplotlib.lines.Line2D at 0x7fb6fd8adf28>,\n",
              " <matplotlib.lines.Line2D at 0x7fb6fd8b20f0>]"
            ]
          },
          "metadata": {
            "tags": []
          },
          "execution_count": 152
        },
        {
          "output_type": "display_data",
          "data": {
            "image/png": "[encoded data removed]",
            "text/plain": [
              "<Figure size 432x288 with 1 Axes>"
            ]
          },
          "metadata": {
            "tags": []
          }
        }
      ]
    }
  ]
}